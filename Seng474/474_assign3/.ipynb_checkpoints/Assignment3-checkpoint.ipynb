{
 "cells": [
  {
   "cell_type": "code",
   "execution_count": null,
   "metadata": {},
   "outputs": [],
   "source": [
    "from sklearn.datasets import make_blobs\n",
    "import matplotlib.pyplot as plt\n",
    "import numpy as np\n",
    "from scipy.cluster.hierarchy import dendrogram, linkage\n",
    "from sklearn.cluster import AgglomerativeClustering"
   ]
  },
  {
   "cell_type": "markdown",
   "metadata": {},
   "source": [
    "# Load Data\n"
   ]
  },
  {
   "cell_type": "code",
   "execution_count": null,
   "metadata": {},
   "outputs": [],
   "source": [
    "file = open(\"dataset1.csv\")\n",
    "file.readline()\n",
    "data = np.loadtxt(file, delimiter =\",\")\n",
    "\n",
    "file = open(\"dataset2.csv\")\n",
    "file.readline()\n",
    "data2 = np.loadtxt(file, delimiter =\",\")\n",
    "\n",
    "print(data2)"
   ]
  },
  {
   "cell_type": "markdown",
   "metadata": {},
   "source": [
    "# Lloyd's Algorithm Implementation Random"
   ]
  },
  {
   "cell_type": "code",
   "execution_count": null,
   "metadata": {},
   "outputs": [],
   "source": [
    "def print_lloyds(data,cluster_info, k):\n",
    "    plt.figure(figsize = (10, 5))\n",
    "    colours = ['r','b','r', 'y', 'g','c','m','k']\n",
    "    for i in range(0,k):\n",
    "        data_indexes = cluster_info[i].get(\"cluster_contents\")\n",
    "        to_plot_x = [data[index][0] for index in data_indexes]\n",
    "        to_plot_y = [data[index][1] for index in data_indexes]\n",
    "        plt.scatter(to_plot_x, to_plot_y,cmap=colours[i])\n",
    "    \n",
    "    "
   ]
  },
  {
   "cell_type": "code",
   "execution_count": null,
   "metadata": {},
   "outputs": [],
   "source": [
    "def print_lloyds3D(data, cluster_info,k):\n",
    "     plt.figure(figsize = (10, 5))\n",
    "    ax = plt.axes(projection =\"3d\")\n",
    "    colours = ['r','b','r', 'y', 'g','c','m','k']\n",
    "    for i in range(0,k):\n",
    "        data_indexes = cluster_info[i].get(\"cluster_contents\")\n",
    "        to_plot_x = [data[index][0] for index in data_indexes]\n",
    "        to_plot_y = [data[index][1] for index in data_indexes]\n",
    "        to_plot_z = [data[index][2] for index in data_indexes]\n",
    "        ax.scatter(to_plot_x, to_plot_y, to_plot_z, cmap=colours[i])\n",
    "    ax.view_init(0, 75)\n",
    "    plt.show() "
   ]
  },
  {
   "cell_type": "code",
   "execution_count": null,
   "metadata": {},
   "outputs": [],
   "source": [
    "def lloyds(k, data, cluster_info):\n",
    "    start_mean = []\n",
    "    for i in range(0,k):\n",
    "        start_mean.append(cluster_info[i].get(\"mean_vector\"))\n",
    "    new_mean = start_mean.copy()\n",
    "    \n",
    "    while(1):\n",
    "       # Run through the whole dataset and place into clusers\n",
    "        for j in range(0, len(data)):\n",
    "            minDistance = 0.0\n",
    "            at_k = 0\n",
    "            #calc distance from mean of k clusters\n",
    "            for i in range(0, k):\n",
    "                x = np.array(data[j])\n",
    "                mu = np.array(cluster_info[i].get(\"mean_vector\"))\n",
    "                x = list(x-mu)\n",
    "                val_sum = np.linalg.norm(x)\n",
    "                if( val_sum < minDistance or i == 0):\n",
    "                    minDistance = val_sum \n",
    "                    at_k = i\n",
    "            cluster_info[at_k].get(\"cluster_contents\").append(j)\n",
    "\n",
    "        #Calculate the new value of mean\n",
    "        for i in range(0,k):\n",
    "            #go through all of the values in the cluser\n",
    "            cluster_vals = cluster_info[i].get(\"cluster_contents\")\n",
    "            #print(start_mean)\n",
    "            sum = 0\n",
    "            for j in range(0, len(cluster_vals)):\n",
    "                data_point =np.array(data[cluster_vals[j]])\n",
    "                sum = data_point +sum\n",
    "            sum = np.around(sum / len(cluster_vals), 5)\n",
    "            new_mean[i] = sum\n",
    "           \n",
    "        new_mean = [list(item) for item in new_mean]\n",
    "        start_mean = [list(item) for item in start_mean]\n",
    "\n",
    "        if list(new_mean) == list(start_mean):\n",
    "            break\n",
    "\n",
    "        start_mean = new_mean[:]\n",
    "        \n",
    "\n",
    "    #print_lloyds(data,cluster_info, k)\n",
    "    return cluster_info\n",
    "        \n",
    "\n",
    "        #take each cluster and find the new mean of each cluster\n",
    "            "
   ]
  },
  {
   "cell_type": "code",
   "execution_count": null,
   "metadata": {},
   "outputs": [],
   "source": [
    "def lloyds_random(k, data):\n",
    "    result = np.random.choice(a=len(data), size=k, replace=False)\n",
    "    start_mean = data[result, :]\n",
    "    new_mean = start_mean.copy()\n",
    "    print()\n",
    "    cluster_info = []\n",
    "    for i in range(0,k):\n",
    "        dictionary = {\"mean_vector\": start_mean[i], \"cluster_contents\": [result[i]]}\n",
    "        cluster_info.append(dictionary)\n",
    "    return cluster_info"
   ]
  },
  {
   "cell_type": "code",
   "execution_count": null,
   "metadata": {},
   "outputs": [],
   "source": [
    "cluster_info = lloyds_random(4, data)\n",
    "lloyds(4, data, cluster_info)\n",
    "print_lloyds(data,cluster_info, 4)\n"
   ]
  },
  {
   "cell_type": "code",
   "execution_count": null,
   "metadata": {},
   "outputs": [],
   "source": [
    "cluster_info = lloyds_random(8, data2)\n",
    "cluster_info = lloyds(8, data2, cluster_info)\n",
    "print_lloyds3D(data2,cluster_info, 8)"
   ]
  },
  {
   "cell_type": "markdown",
   "metadata": {},
   "source": [
    "# Cost function for Lloyds Random"
   ]
  },
  {
   "cell_type": "code",
   "execution_count": null,
   "metadata": {},
   "outputs": [],
   "source": [
    "def cost_fuction(max_k, data):\n",
    "    X= []\n",
    "    Y=[]\n",
    "    for i in range(1,max_k):\n",
    "        cluster_info = lloyds_random(i,data)\n",
    "        lloyds(i, data, cluster_info)\n",
    "        X.append(i+1)\n",
    "        for j in range(0,i):\n",
    "            mean = np.array(cluster_info[j].get(\"mean_vector\"))\n",
    "            point_index = cluster_info[j].get(\"cluster_contents\")\n",
    "            sum = 0\n",
    "            for point in point_index:\n",
    "                x_val = np.array(data[point])\n",
    "                result= list(x_val-mean)\n",
    "                sum += np.linalg.norm(result)**2\n",
    "        Y.append(sum)\n",
    "        print(\"VALS\")\n",
    "        print(X)\n",
    "        print(Y)\n",
    "    plt.plot(X, Y, 'bo')\n",
    "    plt.plot(X,Y,'b')\n",
    "            \n",
    "        \n",
    "    "
   ]
  },
  {
   "cell_type": "code",
   "execution_count": null,
   "metadata": {},
   "outputs": [],
   "source": [
    "#x = lloyds_random(2,data)\n",
    "cost_fuction(2, data2)"
   ]
  },
  {
   "cell_type": "markdown",
   "metadata": {},
   "source": [
    "# Lloyd's Algorithm K-Means ++\n"
   ]
  },
  {
   "cell_type": "code",
   "execution_count": null,
   "metadata": {},
   "outputs": [],
   "source": [
    "def lloyds_kmeans_pp(k, data):\n",
    "    # randomly select \n",
    "    centroids = []\n",
    "    point = np.random.randint(0, len(data))\n",
    "    cluster_info = []\n",
    "    centroids.append(list(data[point]))\n",
    "    dictionary = {\"mean_vector\": centroids[0], \"cluster_contents\": [point]}\n",
    "    cluster_info.append(dictionary)\n",
    "    \n",
    "    for i in range(1,k):\n",
    "        distances = []\n",
    "        #index = 0\n",
    "        for j in range(0, len(data)):\n",
    "            point = np.array(data[j])\n",
    "            val = 100000000\n",
    "            for z in range(0, len(centroids)):\n",
    "                result = np.sum((point - centroids[i-1])**2) \n",
    "                if(min(val,result)< val):\n",
    "                    val = min(val, result)\n",
    "                   # index = z\n",
    "            \n",
    "            distances.append(val)\n",
    "        index = distances.index(max(distances))\n",
    "        centroids.append(list(data[index]))\n",
    "        dictionary = {\"mean_vector\": centroids[i], \"cluster_contents\": [i]}\n",
    "        print(\"here\")\n",
    "        cluster_info.append(dictionary)\n",
    "    return cluster_info\n",
    "  "
   ]
  },
  {
   "cell_type": "code",
   "execution_count": null,
   "metadata": {},
   "outputs": [],
   "source": [
    "cluster_info = lloyds_kmeans_pp(4,data)\n",
    "print(cluster_info)\n",
    "cluster_info = lloyds(4, data, cluster_info)\n",
    "print_lloyds(data,cluster_info, 4)"
   ]
  },
  {
   "cell_type": "code",
   "execution_count": null,
   "metadata": {},
   "outputs": [],
   "source": [
    "cluster_info = lloyds_kmeans_pp(4,data2)\n",
    "print(cluster_info)\n",
    "cluster_info = lloyds(4, data2, cluster_info)\n",
    "print_lloyds3D(data2,cluster_info, 4)"
   ]
  },
  {
   "cell_type": "markdown",
   "metadata": {},
   "source": [
    "# Cost K-means ++"
   ]
  },
  {
   "cell_type": "code",
   "execution_count": null,
   "metadata": {},
   "outputs": [],
   "source": [
    "def cost_fuction_K(max_k, data):\n",
    "    X= []\n",
    "    Y=[]\n",
    "    for i in range(1,max_k):\n",
    "        break\n",
    "        cluster_info = lloyds_kmeans_pp(i,data)\n",
    "        lloyds(i, data, cluster_info)\n",
    "        X.append(i+1)\n",
    "        for j in range(0,i):\n",
    "            mean = np.array(cluster_info[j].get(\"mean_vector\"))\n",
    "            point_index = cluster_info[j].get(\"cluster_contents\")\n",
    "            sum = 0\n",
    "            for point in point_index:\n",
    "                x_val = np.array(data[point])\n",
    "                result= list(x_val-mean)\n",
    "                sum += np.linalg.norm(result)**2\n",
    "        Y.append(sum)\n",
    "        print(\"VALS\")\n",
    "        print(X)\n",
    "        print(Y)\n",
    "    plt.plot(X, Y, 'bo')\n",
    "    plt.plot(X,Y,'b')            "
   ]
  },
  {
   "cell_type": "code",
   "execution_count": null,
   "metadata": {},
   "outputs": [],
   "source": [
    "cost_fuction_K(10,data2)"
   ]
  },
  {
   "cell_type": "markdown",
   "metadata": {},
   "source": [
    "# Make Dendogram"
   ]
  },
  {
   "cell_type": "code",
   "execution_count": null,
   "metadata": {},
   "outputs": [],
   "source": [
    "from scipy.cluster.hierarchy import dendrogram, linkage\n",
    "def dendogram(data, dis_measure= 'single' ):\n",
    "    linked = linkage(data, dis_measure)\n",
    "    labelList = range(0, len(data))\n",
    "    plt.figure(figsize=(15, 10))\n",
    "    dendrogram(linked,truncate_mode = 'lastp',orientation='top',labels=labelList,distance_sort='descending',show_leaf_counts=True)\n",
    "    plt.show()"
   ]
  },
  {
   "cell_type": "code",
   "execution_count": null,
   "metadata": {},
   "outputs": [],
   "source": [
    "dendogram(data2, dis_measure = 'single')"
   ]
  },
  {
   "cell_type": "markdown",
   "metadata": {},
   "source": [
    "# Hierarchical agglomerative clustering "
   ]
  },
  {
   "cell_type": "code",
   "execution_count": null,
   "metadata": {},
   "outputs": [],
   "source": [
    "def h_agg_clustering(data, linkage='single',clusters = 2):\n",
    "    model = AgglomerativeClustering(linkage=linkage, n_clusters= clusters)\n",
    "    model.fit(data)\n",
    "    plt.figure(figsize = (10, 5))\n",
    "    to_plot_x = [point[0] for point in data]\n",
    "    to_plot_y = [point[1] for point in data]\n",
    "    plt.scatter(to_plot_x, to_plot_y, c=model.labels_, cmap='rainbow')\n",
    " "
   ]
  },
  {
   "cell_type": "code",
   "execution_count": null,
   "metadata": {},
   "outputs": [],
   "source": [
    "def h_agg_clustering3D(data, linkage='single',clusters = 2):\n",
    "    model = AgglomerativeClustering(linkage=linkage, n_clusters= clusters)\n",
    "    model.fit(data)\n",
    "    fig = plt.figure(figsize = (10, 5))\n",
    "    ax = plt.axes(projection =\"3d\") \n",
    "    to_plot_x = [point[0] for point in data]\n",
    "    to_plot_y = [point[1] for point in data]\n",
    "    to_plot_z = [point[2] for point in data]\n",
    "    ax.scatter(to_plot_x, to_plot_y, to_plot_z, cmap='rainbow', c=model.labels_)\n",
    "    ax.view_init(0, 75)\n",
    "    plt.show()  \n",
    "\n",
    "    "
   ]
  },
  {
   "cell_type": "code",
   "execution_count": null,
   "metadata": {},
   "outputs": [],
   "source": [
    "h_agg_clustering(data, linkage='single',clusters = 2)"
   ]
  },
  {
   "cell_type": "code",
   "execution_count": null,
   "metadata": {},
   "outputs": [],
   "source": [
    "h_agg_clustering3D(data2,linkage = 'average', clusters = 5)"
   ]
  }
 ],
 "metadata": {
  "kernelspec": {
   "display_name": "Python 3",
   "language": "python",
   "name": "python3"
  },
  "language_info": {
   "codemirror_mode": {
    "name": "ipython",
    "version": 3
   },
   "file_extension": ".py",
   "mimetype": "text/x-python",
   "name": "python",
   "nbconvert_exporter": "python",
   "pygments_lexer": "ipython3",
   "version": "3.7.7"
  }
 },
 "nbformat": 4,
 "nbformat_minor": 4
}
