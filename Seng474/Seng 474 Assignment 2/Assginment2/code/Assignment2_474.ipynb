{
 "cells": [
  {
   "cell_type": "code",
   "execution_count": null,
   "metadata": {
    "collapsed": true,
    "scrolled": true
   },
   "outputs": [],
   "source": [
    "from sklearn.datasets import make_blobs\n",
    "import matplotlib.pyplot as plt\n",
    "import numpy as np"
   ]
  },
  {
   "cell_type": "code",
   "execution_count": null,
   "metadata": {
    "collapsed": true,
    "scrolled": true
   },
   "outputs": [],
   "source": [
    "from sklearn import datasets\n",
    "from sklearn.linear_model import LogisticRegression\n",
    "from sklearn.metrics import classification_report, confusion_matrix, accuracy_score\n",
    "from sklearn.model_selection import train_test_split\n",
    "from sklearn import metrics\n",
    "import pandas as pd\n",
    "from sklearn import svm"
   ]
  },
  {
   "cell_type": "markdown",
   "metadata": {},
   "source": [
    "# Load Test and Train Data"
   ]
  },
  {
   "cell_type": "code",
   "execution_count": null,
   "metadata": {
    "collapsed": true,
    "scrolled": true
   },
   "outputs": [],
   "source": [
    "file = open(\"trimmed_test.csv\")\n",
    "file.readline()\n",
    "data = np.loadtxt(file, delimiter =\",\")\n",
    "\n",
    "file = open(\"trimmed_train.csv\")\n",
    "file.readline()\n",
    "data2 = np.loadtxt(file, delimiter =\",\")\n",
    "\n",
    "test_Y = data[:,0]\n",
    "test_X = data[:, 0:]\n",
    "\n",
    "train_Y = data2[:,0]\n",
    "train_X = data2[:, 0:]\n",
    "\n",
    "print(data)"
   ]
  },
  {
   "cell_type": "markdown",
   "metadata": {},
   "source": [
    "# Logistic Regression"
   ]
  },
  {
   "cell_type": "code",
   "execution_count": null,
   "metadata": {
    "collapsed": true,
    "scrolled": true
   },
   "outputs": [],
   "source": [
    "def log_regression(X_train, y_train, X_test,y_test,C=1e5, multiclass=\"multinomial\",solver=\"lbfgs\",penalty=\"l2\"):\n",
    "    model = LogisticRegression(C=C, multi_class=multiclass, solver=solver, penalty=penalty)\n",
    "    \n",
    "    model.fit(X_train, y_train)\n",
    "    y_pred = model.predict(X_test) \n",
    "    y_pred_train = model.predict(X_train)\n",
    "    return  [ metrics.mean_squared_error(y_test, y_pred),  metrics.mean_squared_error(y_train, y_pred_train)]\n",
    "    #return  [1-accuracy_score(y_test, y_pred), 1-accuracy_score(y_train, y_pred_train)]\n",
    "    \n",
    "    "
   ]
  },
  {
   "cell_type": "markdown",
   "metadata": {},
   "source": [
    "# Support Vector Machines"
   ]
  },
  {
   "cell_type": "code",
   "execution_count": null,
   "metadata": {
    "collapsed": true,
    "scrolled": true
   },
   "outputs": [],
   "source": [
    "def svm_model(X_train, y_train, X_test, y_test, C=1e5, kernel='linear',gamma='scale'):\n",
    "    clf = svm.SVC(C=C, kernel= kernel, gamma=gamma)\n",
    "    clf.fit(X_train, y_train)\n",
    "    y_pred = clf.predict(X_test)\n",
    "    y_pred_train = clf.predict(X_train)\n",
    "    return  [ metrics.mean_squared_error(y_test, y_pred),  metrics.mean_squared_error(y_train, y_pred_train)]"
   ]
  },
  {
   "cell_type": "markdown",
   "metadata": {},
   "source": [
    "# K Fold Cross Validation Helper Methods"
   ]
  },
  {
   "cell_type": "code",
   "execution_count": null,
   "metadata": {
    "collapsed": true,
    "scrolled": true
   },
   "outputs": [],
   "source": [
    "#split data and return a list of size k * 2 that has the test and train datasets split out\n",
    "def k_fold_split(X_train, Y_train, k):\n",
    "    \n",
    "    # divide X into k parts\n",
    "    # loop through\n",
    "    result = []\n",
    "    split =int(len(X_train)/k)\n",
    "    count = 0\n",
    "    for i in range(0, k):\n",
    "        data = X_train[count:split*(i+1)]\n",
    "        target = Y_train[count:split*(i+1)]\n",
    "        count += split\n",
    "        add_to_result = {\"X\":data, \"Y\":target}\n",
    "        result.append(add_to_result)\n",
    "        \n",
    "    return result"
   ]
  },
  {
   "cell_type": "code",
   "execution_count": null,
   "metadata": {
    "collapsed": true,
    "scrolled": true
   },
   "outputs": [],
   "source": [
    "def cal_average(list):\n",
    "    print(list)\n",
    "    total = 0\n",
    "    for i in range(0, len(list)):\n",
    "        total += list[i]\n",
    "    return total/len(list)"
   ]
  },
  {
   "cell_type": "code",
   "execution_count": null,
   "metadata": {
    "collapsed": true,
    "scrolled": true
   },
   "outputs": [],
   "source": [
    "#Using k-fold cross validation with logistic regression\n",
    "def cross_val_log_regression(train_x, train_y, test_x, test_y, C=1e5, k=2):\n",
    "    error_scores = []\n",
    "    result = k_fold_split(train_X, train_Y, k)\n",
    "    train_x = []\n",
    "    train_y = []\n",
    "    for i in range(0, len(result)):\n",
    "        test_x = result[i].get(\"X\")\n",
    "        test_y = result[i].get(\"Y\")\n",
    "        for j in range(0, len(result)):\n",
    "            if(j!= i):\n",
    "                train_x.extend(result[j].get(\"X\"))\n",
    "                train_y.extend(result[j].get(\"Y\"))\n",
    "        reg_result = log_regression(train_x, train_y, test_x, test_y, C=C)\n",
    "        error_scores.append(reg_result[0])\n",
    "    cross_val_result = cal_average(error_scores)\n",
    "    return cross_val_result"
   ]
  },
  {
   "cell_type": "code",
   "execution_count": null,
   "metadata": {
    "collapsed": true,
    "scrolled": true
   },
   "outputs": [],
   "source": [
    "#using k-fold cross validation with svms\n",
    "def cross_val_svm(train_X, train_Y, C=1e5, kernel='linear', k=2, gamma='scale'):\n",
    "    error_scores = []\n",
    "    result = k_fold_split(train_X, train_Y, k)\n",
    "    train_x = []\n",
    "    train_y = []\n",
    "    #print(result)\n",
    "    for i in range(0, len(result)):\n",
    "        test_x = result[i].get(\"X\")\n",
    "        test_y = result[i].get(\"Y\")\n",
    "        for j in range(0, len(result)):\n",
    "            if(j!= i):\n",
    "                train_x.extend(result[j].get(\"X\"))\n",
    "                train_y.extend(result[j].get(\"Y\"))\n",
    "        reg_result = svm_model(train_x, train_y, test_x, test_y, kernel=kernel, C=C, gamma=gamma)\n",
    "        error_scores.append(reg_result[0])\n",
    "    cross_val_result = cal_average(error_scores)\n",
    "    return cross_val_result"
   ]
  },
  {
   "cell_type": "markdown",
   "metadata": {},
   "source": [
    "# First ...\n"
   ]
  },
  {
   "cell_type": "code",
   "execution_count": null,
   "metadata": {
    "collapsed": true,
    "scrolled": true
   },
   "outputs": [],
   "source": [
    "test_size_x = []\n",
    "test_size_score = []\n",
    "train_size_score = []\n",
    "\n",
    "for i in range(1,10):\n",
    "    c = (0.1)*(0.15**i)\n",
    "    nResult = log_regression(train_X, train_Y,test_X, test_Y, C=c)\n",
    "    print(nResult)\n",
    "    test_size_x.append(i)\n",
    "    test_size_score.append(nResult[0]*100)\n",
    "    train_size_score.append(nResult[1]*100)\n",
    "plt.clf()\n",
    "plt.plot(test_size_x, train_size_score, 'b')\n",
    "plt.plot(test_size_x, test_size_score, 'r')\n",
    "plt.ylabel('Error (percentage)')\n",
    "plt.xlabel('C = (0.1*(0.15^x))')\n",
    "plt.show()\n",
    "    "
   ]
  },
  {
   "cell_type": "markdown",
   "metadata": {},
   "source": [
    "# Second...\n"
   ]
  },
  {
   "cell_type": "code",
   "execution_count": null,
   "metadata": {
    "collapsed": true,
    "scrolled": true
   },
   "outputs": [],
   "source": [
    "test_size_x = []\n",
    "test_size_score = []\n",
    "train_size_score = []\n",
    "\n",
    "for i in range(1,10):\n",
    "    C = (0.1)*(0.15**i)\n",
    "    svmResult = svm_model(train_X, train_Y, test_X, test_Y, C=C, kernel = 'linear')\n",
    "    test_size_x.append(i)\n",
    "    test_size_score.append(svmResult[0]*100)\n",
    "    train_size_score.append(svmResult[1]*100)\n",
    "plt.clf()\n",
    "plt.plot(test_size_x, train_size_score, 'b')\n",
    "plt.plot(test_size_x, test_size_score, 'r')\n",
    "plt.ylabel('Error (percentage)')\n",
    "plt.xlabel('C = (0.1*(0.15^x))')\n",
    "plt.show()\n",
    "    "
   ]
  },
  {
   "cell_type": "markdown",
   "metadata": {},
   "source": [
    "# Third...\n"
   ]
  },
  {
   "cell_type": "code",
   "execution_count": null,
   "metadata": {
    "collapsed": true,
    "scrolled": true
   },
   "outputs": [],
   "source": [
    "test_size_x = []\n",
    "test_size_score = []\n",
    "train_size_score = []\n",
    "\n",
    "for i in range(1,10):\n",
    "    C=(0.1)*(0.1**i)\n",
    "    result = cross_val_log_regression(train_X, train_Y, test_X, test_Y, C=C, k=5)\n",
    "    test_size_x.append(i)\n",
    "    train_size_score.append(result*100)\n",
    "plt.clf()\n",
    "plt.plot(test_size_x, train_size_score, 'b')\n",
    "plt.ylabel('Error (percentage)')\n",
    "plt.xlabel('x in C = (0.1*(0.15^x))')\n",
    "plt.show()\n"
   ]
  },
  {
   "cell_type": "code",
   "execution_count": null,
   "metadata": {
    "collapsed": true,
    "scrolled": true
   },
   "outputs": [],
   "source": [
    "test_size_x = []\n",
    "test_size_score = []\n",
    "train_size_score = []\n",
    "\n",
    "for i in range(1,10):\n",
    "    C=(0.1)*(0.1**i)\n",
    "    svmResult = cross_val_svm(train_X, train_Y, test_X, test_Y, C=C, k=5)\n",
    "    test_size_x.append(i)\n",
    "    train_size_score.append(svmResult*100)\n",
    "plt.clf()\n",
    "plt.plot(test_size_x, train_size_score, 'b')\n",
    "plt.ylabel('Error (percentage)')\n",
    "plt.xlabel('C')\n",
    "plt.show()"
   ]
  },
  {
   "cell_type": "code",
   "execution_count": null,
   "metadata": {
    "collapsed": true,
    "scrolled": true
   },
   "outputs": [],
   "source": [
    "print(svm_model(train_X, train_Y, test_X, test_Y, C=(0.1)*(0.1**3)))\n",
    "print(log_regression(train_X, train_Y, test_X, test_Y, C=(0.1)*(0.1**i)))\n"
   ]
  },
  {
   "cell_type": "markdown",
   "metadata": {},
   "source": [
    "# Fourth\n"
   ]
  },
  {
   "cell_type": "code",
   "execution_count": null,
   "metadata": {
    "collapsed": true,
    "scrolled": true
   },
   "outputs": [],
   "source": [
    "gamma_vals = [ 0.00000005,0.00000001, 0.0000001, 0.00001, 0.00005]\n",
    "\n",
    "gamma_vals.sort()\n",
    "for i in range(0,len(gamma_vals)):\n",
    "    test_size_x = []\n",
    "    title = \"Gamma: \" +str(gamma_vals[i])\n",
    "    test_size_score = []\n",
    "    train_size_score = []\n",
    "    for j in range(1,10):\n",
    "        C = 1.1*(2.5**j)\n",
    "        svmResult = cross_val_svm(train_X, train_Y, C=C, k=5,gamma=gamma_vals[i], kernel='rbf')\n",
    "        test_size_x.append(j)\n",
    "        train_size_score.append(svmResult*100)\n",
    "    plt.clf()\n",
    "    plt.plot(test_size_x, train_size_score, 'b')\n",
    "\n",
    "    plt.suptitle(title)\n",
    "    plt.ylabel('Error (percentage)')\n",
    "    plt.xlabel('X')\n",
    "    plt.show()"
   ]
  },
  {
   "cell_type": "code",
   "execution_count": null,
   "metadata": {
    "collapsed": true,
    "scrolled": true
   },
   "outputs": [],
   "source": [
    "test_size_x = []\n",
    "test_size_score = []\n",
    "train_size_score = []\n",
    "C_vals = [5, 5, 8, 5, 3]\n",
    "\n",
    "\n",
    "for i in range(0,len(gamma_vals)):\n",
    "    print('GAMMA')\n",
    "    print(gamma_vals[i])\n",
    "    C=0.1*(2.5**C_vals[i])\n",
    "    svmResult = svm_model(train_X, train_Y, test_X, test_Y, gamma=gamma_vals[i],kernel='rbf')\n",
    "    test_size_x.append(i)\n",
    "    test_size_score.append((svmResult[0]*100))\n",
    "    train_size_score.append((svmResult[1]*100))\n",
    "    print(test_size_x)\n",
    "    print(test_size_score)\n",
    "    print(train_size_score)\n",
    "plt.clf()\n",
    "plt.plot(test_size_x, train_size_score, 'bo')\n",
    "plt.plot(test_size_x, test_size_score, 'ro')\n",
    "\n",
    "plt.suptitle(\"test and training error of gamma\")\n",
    "plt.ylabel('Error (percentage)')\n",
    "plt.xlabel('Gamma array index')\n",
    "plt.show()\n",
    "\n"
   ]
  },
  {
   "cell_type": "code",
   "execution_count": null,
   "metadata": {
    "collapsed": true,
    "scrolled": true
   },
   "outputs": [],
   "source": []
  }
 ],
 "metadata": {
  "kernelspec": {
   "display_name": "Python 3",
   "language": "python",
   "name": "python3"
  },
  "language_info": {
   "codemirror_mode": {
    "name": "ipython",
    "version": 3
   },
   "file_extension": ".py",
   "mimetype": "text/x-python",
   "name": "python",
   "nbconvert_exporter": "python",
   "pygments_lexer": "ipython3",
   "version": "3.7.7"
  }
 },
 "nbformat": 4,
 "nbformat_minor": 4
}
