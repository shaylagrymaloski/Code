{
 "cells": [
  {
   "cell_type": "code",
   "execution_count": 2,
   "metadata": {},
   "outputs": [],
   "source": [
    "import matplotlib.pyplot as plt\n",
    "from sklearn.datasets import make_blobs\n",
    "import numpy as np"
   ]
  },
  {
   "cell_type": "code",
   "execution_count": 3,
   "metadata": {},
   "outputs": [],
   "source": [
    "from sklearn import tree\n",
    "from sklearn.metrics import classification_report, confusion_matrix, accuracy_score\n",
    "from sklearn.model_selection import train_test_split\n",
    "from sklearn.ensemble import RandomForestClassifier\n",
    "from sklearn.ensemble import RandomForestRegressor\n",
    "from sklearn import metrics\n",
    "from sklearn.model_selection import GridSearchCV\n",
    "from sklearn import preprocessing\n",
    "from sklearn.datasets import load_digits\n",
    "from sklearn.neural_network import MLPClassifier"
   ]
  },
  {
   "cell_type": "markdown",
   "metadata": {},
   "source": [
    "# Decision Tree (DT) Implementation\n",
    "This function is used to generate a decision tree and will return the accuracy of the test set when matched with the training set"
   ]
  },
  {
   "cell_type": "code",
   "execution_count": 12,
   "metadata": {},
   "outputs": [],
   "source": [
    "def decisionTree(data, target_data, test=0.2, depth=None, random=0, criterion='gini', min_imp=0, max_leaf=None):\n",
    "    decision_tree = tree.DecisionTreeClassifier(max_depth=depth, criterion='gini',random_state=0, min_impurity_decrease=min_imp,max_leaf_nodes=max_leaf)\n",
    "    X_train, X_test, y_train, y_test = train_test_split(data, target_data , test_size=test)\n",
    "    \n",
    "    clf = decision_tree.fit(X_train, y_train)\n",
    "    y_pred = clf.predict(X_test)\n",
    "    y_pred_train = clf.predict(X_train)\n",
    "    return [accuracy_score(y_test, y_pred), accuracy_score(y_train, y_pred_train)]"
   ]
  },
  {
   "cell_type": "markdown",
   "metadata": {},
   "source": [
    "# Random Forest (RF) Implementaion"
   ]
  },
  {
   "cell_type": "code",
   "execution_count": 123,
   "metadata": {},
   "outputs": [],
   "source": [
    "def randomForest(data, target_data, random=None, maxF=None, n=100, min_split=2):\n",
    "    X_train, X_test, y_train, y_test = train_test_split(data, target_data, test_size=0.2, random_state=random)\n",
    "    classifier = RandomForestClassifier(n_estimators=n, random_state=random, max_features=maxF, min_samples_split=min_split) \n",
    "\n",
    "    clf = classifier.fit(X_train, y_train)\n",
    "    y_pred = clf.predict(X_test)\n",
    "    y_pred_train = clf.predict(X_train)\n",
    "    \n",
    "\n",
    "    \n",
    "    return  [accuracy_score(y_test, y_pred), accuracy_score(y_train, y_pred_train)]"
   ]
  },
  {
   "cell_type": "markdown",
   "metadata": {},
   "source": [
    "# Neural Network (NN) Implementaion"
   ]
  },
  {
   "cell_type": "code",
   "execution_count": 58,
   "metadata": {},
   "outputs": [],
   "source": [
    "def neuralNetwork(data, target_data,alpha=0.0001, learn_start=0.001, rate='constant', layer=(100,)):\n",
    "    X_train, X_test, y_train, y_test = train_test_split(data, target_data, test_size=0.2)\n",
    "    mlp = MLPClassifier(alpha=alpha, learning_rate_init=learn_start,learning_rate=rate, hidden_layer_sizes=layer)\n",
    "    mlp.fit(X_train, y_train);\n",
    "    y_pred= mlp.predict(X_test)\n",
    "    y_pred_train = mlp.predict(X_train)\n",
    "    \n",
    "    return  [accuracy_score(y_test, y_pred), accuracy_score(y_train, y_pred_train)]"
   ]
  },
  {
   "cell_type": "markdown",
   "metadata": {},
   "source": [
    "# First Data Set\n",
    "Run this section when you want to have the data from the first data set"
   ]
  },
  {
   "cell_type": "code",
   "execution_count": 148,
   "metadata": {},
   "outputs": [],
   "source": [
    "# open the data into \n",
    "file = open(\"data.txt\")\n",
    "data = np.loadtxt(file, delimiter =\",\")\n",
    "\n",
    "target_data = data[:,-1]\n",
    "data = data[:, :-1]"
   ]
  },
  {
   "cell_type": "markdown",
   "metadata": {},
   "source": [
    "# Second Data Set\n",
    "Run this section when you want to have the data from the second data set"
   ]
  },
  {
   "cell_type": "code",
   "execution_count": 136,
   "metadata": {},
   "outputs": [],
   "source": [
    "# open the data into \n",
    "file = open(\"voice.txt\")\n",
    "file.readline()\n",
    "data2 = np.loadtxt(file, delimiter =\",\")\n",
    "\n",
    "target_data = data2[:,-1]\n",
    "data = data2[:, :-1]"
   ]
  },
  {
   "cell_type": "markdown",
   "metadata": {},
   "source": [
    "# DT: Exploring training size vs test size\n"
   ]
  },
  {
   "cell_type": "code",
   "execution_count": 15,
   "metadata": {},
   "outputs": [
    {
     "name": "stdout",
     "output_type": "stream",
     "text": [
      "[[63.  1.  1. ...  3.  0.  6.]\n",
      " [67.  1.  4. ...  2.  3.  3.]\n",
      " [67.  1.  4. ...  2.  2.  7.]\n",
      " ...\n",
      " [68.  1.  4. ...  2.  2.  7.]\n",
      " [57.  1.  4. ...  2.  1.  7.]\n",
      " [57.  0.  2. ...  2.  1.  3.]]\n"
     ]
    },
    {
     "data": {
      "image/png": "[encoded data removed]",
      "text/plain": [
       "<Figure size 432x288 with 1 Axes>"
      ]
     },
     "metadata": {
      "needs_background": "light"
     },
     "output_type": "display_data"
    }
   ],
   "source": [
    "test_size_x = []\n",
    "test_size_score = []\n",
    "train_size_score = []\n",
    "size = 1\n",
    "print(data)\n",
    "while(size < 10):\n",
    "    test_size = size/10\n",
    "    score = decisionTree(data, target_data, test=test_size)\n",
    "    test_size_x.append(test_size)\n",
    "    test_size_score.append(score[0])\n",
    "    train_size_score.append(score[1])\n",
    "    size += 1\n",
    "plt.clf()\n",
    "plt.plot(test_size_x, train_size_score, 'bo')\n",
    "plt.plot(test_size_x, test_size_score, 'ro')\n",
    "plt.ylabel('Accuracy Score')\n",
    "plt.xlabel('Test Size')\n",
    "plt.show()"
   ]
  },
  {
   "cell_type": "markdown",
   "metadata": {},
   "source": [
    "# DT: Exploring max depth\n"
   ]
  },
  {
   "cell_type": "code",
   "execution_count": 16,
   "metadata": {},
   "outputs": [
    {
     "name": "stdout",
     "output_type": "stream",
     "text": [
      "[[63.  1.  1. ...  3.  0.  6.]\n",
      " [67.  1.  4. ...  2.  3.  3.]\n",
      " [67.  1.  4. ...  2.  2.  7.]\n",
      " ...\n",
      " [68.  1.  4. ...  2.  2.  7.]\n",
      " [57.  1.  4. ...  2.  1.  7.]\n",
      " [57.  0.  2. ...  2.  1.  3.]]\n"
     ]
    },
    {
     "data": {
      "image/png": "[encoded data removed]",
      "text/plain": [
       "<Figure size 432x288 with 1 Axes>"
      ]
     },
     "metadata": {
      "needs_background": "light"
     },
     "output_type": "display_data"
    }
   ],
   "source": [
    "test_size_x = []\n",
    "test_size_score = []\n",
    "train_size_score = []\n",
    "print(data)\n",
    "for i in range(1, 15):\n",
    "    score = decisionTree(data, target_data, depth=i)\n",
    "    test_size_x.append(i)\n",
    "    test_size_score.append(score[0])\n",
    "    train_size_score.append(score[1])\n",
    "plt.clf()\n",
    "plt.plot(test_size_x, test_size_score, 'ro')\n",
    "plt.plot(test_size_x, train_size_score, 'bo')\n",
    "plt.ylabel('Accuracy Score')\n",
    "plt.xlabel('Value of Max Depth')\n",
    "plt.show()  "
   ]
  },
  {
   "cell_type": "markdown",
   "metadata": {},
   "source": [
    "# DT: Exploring Random State\n"
   ]
  },
  {
   "cell_type": "code",
   "execution_count": 17,
   "metadata": {},
   "outputs": [
    {
     "name": "stdout",
     "output_type": "stream",
     "text": [
      "[[63.  1.  1. ...  3.  0.  6.]\n",
      " [67.  1.  4. ...  2.  3.  3.]\n",
      " [67.  1.  4. ...  2.  2.  7.]\n",
      " ...\n",
      " [68.  1.  4. ...  2.  2.  7.]\n",
      " [57.  1.  4. ...  2.  1.  7.]\n",
      " [57.  0.  2. ...  2.  1.  3.]]\n"
     ]
    },
    {
     "data": {
      "image/png": "[encoded data removed]",
      "text/plain": [
       "<Figure size 432x288 with 1 Axes>"
      ]
     },
     "metadata": {
      "needs_background": "light"
     },
     "output_type": "display_data"
    }
   ],
   "source": [
    "test_size_x = []\n",
    "test_size_score = []\n",
    "train_size_score = []\n",
    "print(data)\n",
    "for i in range(1, 20):\n",
    "    score = decisionTree(data, target_data, random=i)\n",
    "    test_size_x.append(i)\n",
    "    test_size_score.append(score[0])\n",
    "    train_size_score.append(score[1])\n",
    "plt.plot(test_size_x, test_size_score, 'ro')\n",
    "plt.plot(test_size_x, train_size_score, 'bo')\n",
    "plt.ylabel('Accuracy Score')\n",
    "plt.xlabel('Value of Random State')\n",
    "plt.show()   "
   ]
  },
  {
   "cell_type": "markdown",
   "metadata": {},
   "source": [
    "# DT: Gini Vs Entropy\n"
   ]
  },
  {
   "cell_type": "code",
   "execution_count": 43,
   "metadata": {},
   "outputs": [
    {
     "name": "stdout",
     "output_type": "stream",
     "text": [
      "[[63.  1.  1. ...  3.  0.  6.]\n",
      " [67.  1.  4. ...  2.  3.  3.]\n",
      " [67.  1.  4. ...  2.  2.  7.]\n",
      " ...\n",
      " [68.  1.  4. ...  2.  2.  7.]\n",
      " [57.  1.  4. ...  2.  1.  7.]\n",
      " [57.  0.  2. ...  2.  1.  3.]]\n"
     ]
    },
    {
     "data": {
      "image/png": "[encoded data removed]",
      "text/plain": [
       "<Figure size 432x288 with 1 Axes>"
      ]
     },
     "metadata": {
      "needs_background": "light"
     },
     "output_type": "display_data"
    }
   ],
   "source": [
    "test_size_x = []\n",
    "test_size_score = []\n",
    "test_size_score2 = []\n",
    "train_size_score = []\n",
    "print(data)\n",
    "size = 1\n",
    "\n",
    "for i in range(1,10,1):\n",
    "    size = i/10\n",
    "    score = decisionTree(data, target_data, test=size)\n",
    "    score2 = decisionTree(data, target_data,test=size, criterion='entropy')\n",
    "    test_size_x.append(size)\n",
    "    test_size_score2.append(score2[0])\n",
    "    test_size_score.append(score[0])\n",
    "    train_size_score.append(score[1])\n",
    "\n",
    "\n",
    "plt.plot(test_size_x, test_size_score, 'ro')\n",
    "plt.plot(test_size_x, test_size_score2, 'go')\n",
    "plt.plot(test_size_x, train_size_score, 'bo')\n",
    "plt.ylabel('Accuracy Score')\n",
    "plt.xlabel('Test Size')\n",
    "plt.show()"
   ]
  },
  {
   "cell_type": "markdown",
   "metadata": {},
   "source": [
    "# DT: Exploring min_impurity_decrease"
   ]
  },
  {
   "cell_type": "code",
   "execution_count": 367,
   "metadata": {},
   "outputs": [
    {
     "data": {
      "image/png": "[encoded data removed]",
      "text/plain": [
       "<Figure size 432x288 with 1 Axes>"
      ]
     },
     "metadata": {
      "needs_background": "light"
     },
     "output_type": "display_data"
    }
   ],
   "source": [
    "test_size_x = []\n",
    "test_size_score = []\n",
    "train_size_score = []\n",
    "for i in range(0, 10):\n",
    "    score = decisionTree(data, target_data, min_imp=(i/10))\n",
    "    test_size_x.append(i/10)\n",
    "    test_size_score.append(score[0])\n",
    "    train_size_score.append(score[1])\n",
    "plt.plot(test_size_x, test_size_score, 'ro')\n",
    "plt.plot(test_size_x, train_size_score, 'bo')\n",
    "plt.ylabel('Accuracy Score')\n",
    "plt.xlabel('Value of Min Impurity Decrease')\n",
    "plt.show()"
   ]
  },
  {
   "cell_type": "markdown",
   "metadata": {},
   "source": [
    "# DT: Exploring Max Leaf Nodes"
   ]
  },
  {
   "cell_type": "code",
   "execution_count": 54,
   "metadata": {},
   "outputs": [
    {
     "name": "stdout",
     "output_type": "stream",
     "text": [
      "[[0.05978098 0.06424127 0.03202691 ... 0.0078125  0.         0.        ]\n",
      " [0.06600874 0.06731003 0.04022873 ... 0.0546875  0.046875   0.05263158]\n",
      " [0.0773155  0.08382942 0.03671846 ... 0.015625   0.0078125  0.04651163]\n",
      " ...\n",
      " [0.14205626 0.09579843 0.18373124 ... 2.9375     2.9296875  0.19475862]\n",
      " [0.14365874 0.09062826 0.18497617 ... 3.59375    3.5859375  0.31100218]\n",
      " [0.16550895 0.09288354 0.18304392 ... 0.5546875  0.546875   0.35      ]]\n"
     ]
    },
    {
     "data": {
      "image/png": "[encoded data removed]",
      "text/plain": [
       "<Figure size 432x288 with 1 Axes>"
      ]
     },
     "metadata": {
      "needs_background": "light"
     },
     "output_type": "display_data"
    }
   ],
   "source": [
    "test_size_x = []\n",
    "test_size_score = []\n",
    "train_size_score = []\n",
    "print(data)\n",
    "for i in range(2, 50,5):\n",
    "    score = decisionTree(data, target_data, max_leaf=i)\n",
    "    test_size_x.append(i)\n",
    "    test_size_score.append(score[0])\n",
    "    train_size_score.append(score[1])\n",
    "plt.plot(test_size_x, test_size_score, 'ro')\n",
    "plt.plot(test_size_x, train_size_score, 'bo')\n",
    "plt.ylabel('Accuracy Score')\n",
    "plt.xlabel('Value of Max Leaf Nodes')\n",
    "plt.show()"
   ]
  },
  {
   "cell_type": "markdown",
   "metadata": {},
   "source": [
    "# RF: Exporing N Estimators"
   ]
  },
  {
   "cell_type": "code",
   "execution_count": 126,
   "metadata": {},
   "outputs": [
    {
     "name": "stdout",
     "output_type": "stream",
     "text": [
      "[[0.05978098 0.06424127 0.03202691 ... 0.0078125  0.         0.        ]\n",
      " [0.06600874 0.06731003 0.04022873 ... 0.0546875  0.046875   0.05263158]\n",
      " [0.0773155  0.08382942 0.03671846 ... 0.015625   0.0078125  0.04651163]\n",
      " ...\n",
      " [0.14205626 0.09579843 0.18373124 ... 2.9375     2.9296875  0.19475862]\n",
      " [0.14365874 0.09062826 0.18497617 ... 3.59375    3.5859375  0.31100218]\n",
      " [0.16550895 0.09288354 0.18304392 ... 0.5546875  0.546875   0.35      ]]\n"
     ]
    },
    {
     "data": {
      "image/png": "[encoded data removed]",
      "text/plain": [
       "<Figure size 432x288 with 1 Axes>"
      ]
     },
     "metadata": {
      "needs_background": "light"
     },
     "output_type": "display_data"
    }
   ],
   "source": [
    "test_size_x = []\n",
    "test_size_score = []\n",
    "train_size_score = []\n",
    "print(data)\n",
    "for i in range(1,200, 20):\n",
    "    score = randomForest(data, target_data,n=i)\n",
    "    test_size_x.append(i)\n",
    "    test_size_score.append(score[0])\n",
    "    train_size_score.append(score[1])\n",
    "    \n",
    "    \n",
    "plt.plot(test_size_x, test_size_score, 'ro')\n",
    "plt.plot(test_size_x, train_size_score, 'bo')\n",
    "plt.ylabel('Accuracy Score')\n",
    "plt.xlabel('Value of n_estimators')\n",
    "plt.show()  "
   ]
  },
  {
   "cell_type": "markdown",
   "metadata": {},
   "source": [
    "# RF: Max Features\n"
   ]
  },
  {
   "cell_type": "code",
   "execution_count": 149,
   "metadata": {},
   "outputs": [
    {
     "name": "stdout",
     "output_type": "stream",
     "text": [
      "[[63.  1.  1. ...  3.  0.  6.]\n",
      " [67.  1.  4. ...  2.  3.  3.]\n",
      " [67.  1.  4. ...  2.  2.  7.]\n",
      " ...\n",
      " [68.  1.  4. ...  2.  2.  7.]\n",
      " [57.  1.  4. ...  2.  1.  7.]\n",
      " [57.  0.  2. ...  2.  1.  3.]]\n"
     ]
    },
    {
     "data": {
      "image/png": "[encoded data removed]",
      "text/plain": [
       "<Figure size 432x288 with 1 Axes>"
      ]
     },
     "metadata": {
      "needs_background": "light"
     },
     "output_type": "display_data"
    }
   ],
   "source": [
    "test_size_x = []\n",
    "test_size_score = []\n",
    "train_size_score = []\n",
    "print(data)\n",
    "for i in range(1,len(data[0])):\n",
    "    score = randomForest(data, target_data,i)\n",
    "    test_size_x.append(i)\n",
    "    test_size_score.append(score[0])\n",
    "    train_size_score.append(score[1])\n",
    "    \n",
    "\n",
    "plt.plot(test_size_x, test_size_score, 'ro')\n",
    "plt.plot(test_size_x, train_size_score, 'bo')\n",
    "plt.ylabel('Accuracy Score')\n",
    "plt.xlabel('Value of Max Features')\n",
    "plt.show()  "
   ]
  },
  {
   "cell_type": "markdown",
   "metadata": {},
   "source": [
    "# RF: Minimun Samples Split"
   ]
  },
  {
   "cell_type": "code",
   "execution_count": 132,
   "metadata": {},
   "outputs": [
    {
     "name": "stdout",
     "output_type": "stream",
     "text": [
      "[[63.  1.  1. ...  3.  0.  6.]\n",
      " [67.  1.  4. ...  2.  3.  3.]\n",
      " [67.  1.  4. ...  2.  2.  7.]\n",
      " ...\n",
      " [68.  1.  4. ...  2.  2.  7.]\n",
      " [57.  1.  4. ...  2.  1.  7.]\n",
      " [57.  0.  2. ...  2.  1.  3.]]\n"
     ]
    },
    {
     "data": {
      "image/png": "[encoded data removed]",
      "text/plain": [
       "<Figure size 432x288 with 1 Axes>"
      ]
     },
     "metadata": {
      "needs_background": "light"
     },
     "output_type": "display_data"
    }
   ],
   "source": [
    "test_size_x = []\n",
    "test_size_score = []\n",
    "train_size_score = []\n",
    "print(data)\n",
    "for i in range(1, 10):\n",
    "    score = randomForest(data, target_data, min_split=i/10)\n",
    "    test_size_x.append(i/10)\n",
    "    test_size_score.append(score[0])\n",
    "    train_size_score.append(score[1])\n",
    "plt.plot(test_size_x, test_size_score, 'ro')\n",
    "plt.plot(test_size_x, train_size_score, 'bo')\n",
    "plt.ylabel('Accuracy Score')\n",
    "plt.xlabel('Value of Minimun Sample Split')\n",
    "plt.show()  "
   ]
  },
  {
   "cell_type": "markdown",
   "metadata": {},
   "source": [
    "# NN: Exploring alpha"
   ]
  },
  {
   "cell_type": "code",
   "execution_count": 122,
   "metadata": {
    "scrolled": true
   },
   "outputs": [
    {
     "name": "stdout",
     "output_type": "stream",
     "text": [
      "[[63.  1.  1. ...  3.  0.  6.]\n",
      " [67.  1.  4. ...  2.  3.  3.]\n",
      " [67.  1.  4. ...  2.  2.  7.]\n",
      " ...\n",
      " [68.  1.  4. ...  2.  2.  7.]\n",
      " [57.  1.  4. ...  2.  1.  7.]\n",
      " [57.  0.  2. ...  2.  1.  3.]]\n"
     ]
    },
    {
     "name": "stderr",
     "output_type": "stream",
     "text": [
      "/usr/local/lib/python3.7/site-packages/sklearn/neural_network/_multilayer_perceptron.py:585: ConvergenceWarning: Stochastic Optimizer: Maximum iterations (200) reached and the optimization hasn't converged yet.\n",
      "  % self.max_iter, ConvergenceWarning)\n"
     ]
    },
    {
     "data": {
      "image/png": "[encoded data removed]",
      "text/plain": [
       "<Figure size 432x288 with 1 Axes>"
      ]
     },
     "metadata": {
      "needs_background": "light"
     },
     "output_type": "display_data"
    }
   ],
   "source": [
    "test_size_x = []\n",
    "test_size_score = []\n",
    "train_size_score = []\n",
    "print(data)\n",
    "for i in range(1,20, 2):\n",
    "    x = i *(10**-5)\n",
    "    score = neuralNetwork(data, target_data,alpha=x)\n",
    "    test_size_x.append(x)\n",
    "    test_size_score.append(score[0])\n",
    "    train_size_score.append(score[1])\n",
    "plt.plot(test_size_x, test_size_score, 'ro')\n",
    "plt.plot(test_size_x, train_size_score, 'bo')\n",
    "plt.ylabel('Accuracy Score')\n",
    "plt.xlabel('Value of alpha')\n",
    "plt.show()  "
   ]
  },
  {
   "cell_type": "markdown",
   "metadata": {},
   "source": [
    "# NN: Exploring the initial learning rate with Constant Learning"
   ]
  },
  {
   "cell_type": "code",
   "execution_count": 75,
   "metadata": {},
   "outputs": [
    {
     "name": "stdout",
     "output_type": "stream",
     "text": [
      "[[63.  1.  1. ...  3.  0.  6.]\n",
      " [67.  1.  4. ...  2.  3.  3.]\n",
      " [67.  1.  4. ...  2.  2.  7.]\n",
      " ...\n",
      " [68.  1.  4. ...  2.  2.  7.]\n",
      " [57.  1.  4. ...  2.  1.  7.]\n",
      " [57.  0.  2. ...  2.  1.  3.]]\n"
     ]
    },
    {
     "name": "stderr",
     "output_type": "stream",
     "text": [
      "/usr/local/lib/python3.7/site-packages/sklearn/neural_network/_multilayer_perceptron.py:585: ConvergenceWarning: Stochastic Optimizer: Maximum iterations (200) reached and the optimization hasn't converged yet.\n",
      "  % self.max_iter, ConvergenceWarning)\n",
      "/usr/local/lib/python3.7/site-packages/sklearn/neural_network/_multilayer_perceptron.py:585: ConvergenceWarning: Stochastic Optimizer: Maximum iterations (200) reached and the optimization hasn't converged yet.\n",
      "  % self.max_iter, ConvergenceWarning)\n",
      "/usr/local/lib/python3.7/site-packages/sklearn/neural_network/_multilayer_perceptron.py:585: ConvergenceWarning: Stochastic Optimizer: Maximum iterations (200) reached and the optimization hasn't converged yet.\n",
      "  % self.max_iter, ConvergenceWarning)\n",
      "/usr/local/lib/python3.7/site-packages/sklearn/neural_network/_multilayer_perceptron.py:585: ConvergenceWarning: Stochastic Optimizer: Maximum iterations (200) reached and the optimization hasn't converged yet.\n",
      "  % self.max_iter, ConvergenceWarning)\n",
      "/usr/local/lib/python3.7/site-packages/sklearn/neural_network/_multilayer_perceptron.py:585: ConvergenceWarning: Stochastic Optimizer: Maximum iterations (200) reached and the optimization hasn't converged yet.\n",
      "  % self.max_iter, ConvergenceWarning)\n",
      "/usr/local/lib/python3.7/site-packages/sklearn/neural_network/_multilayer_perceptron.py:585: ConvergenceWarning: Stochastic Optimizer: Maximum iterations (200) reached and the optimization hasn't converged yet.\n",
      "  % self.max_iter, ConvergenceWarning)\n",
      "/usr/local/lib/python3.7/site-packages/sklearn/neural_network/_multilayer_perceptron.py:585: ConvergenceWarning: Stochastic Optimizer: Maximum iterations (200) reached and the optimization hasn't converged yet.\n",
      "  % self.max_iter, ConvergenceWarning)\n",
      "/usr/local/lib/python3.7/site-packages/sklearn/neural_network/_multilayer_perceptron.py:585: ConvergenceWarning: Stochastic Optimizer: Maximum iterations (200) reached and the optimization hasn't converged yet.\n",
      "  % self.max_iter, ConvergenceWarning)\n",
      "/usr/local/lib/python3.7/site-packages/sklearn/neural_network/_multilayer_perceptron.py:585: ConvergenceWarning: Stochastic Optimizer: Maximum iterations (200) reached and the optimization hasn't converged yet.\n",
      "  % self.max_iter, ConvergenceWarning)\n"
     ]
    },
    {
     "data": {
      "image/png": "[encoded data removed]",
      "text/plain": [
       "<Figure size 432x288 with 1 Axes>"
      ]
     },
     "metadata": {
      "needs_background": "light"
     },
     "output_type": "display_data"
    }
   ],
   "source": [
    "test_size_x = []\n",
    "test_size_score = []\n",
    "train_size_score = []\n",
    "print(data)\n",
    "for i in range(15,5,-1):\n",
    "    score = neuralNetwork(data, target_data,learn_start=(i/10000))\n",
    "    test_size_x.append(i/10000)\n",
    "    test_size_score.append(score[0])\n",
    "    train_size_score.append(score[1])\n",
    "plt.plot(test_size_x, test_size_score, 'ro')\n",
    "plt.plot(test_size_x, train_size_score, 'bo')\n",
    "plt.ylabel('Accuracy Score')\n",
    "plt.xlabel('Value of Initial Learning Rate')\n",
    "plt.show()  "
   ]
  },
  {
   "cell_type": "markdown",
   "metadata": {},
   "source": [
    "# NN: Exploring the initial learning rate with Adaptive Learning"
   ]
  },
  {
   "cell_type": "code",
   "execution_count": 137,
   "metadata": {
    "scrolled": true
   },
   "outputs": [
    {
     "name": "stdout",
     "output_type": "stream",
     "text": [
      "[[0.05978098 0.06424127 0.03202691 ... 0.0078125  0.         0.        ]\n",
      " [0.06600874 0.06731003 0.04022873 ... 0.0546875  0.046875   0.05263158]\n",
      " [0.0773155  0.08382942 0.03671846 ... 0.015625   0.0078125  0.04651163]\n",
      " ...\n",
      " [0.14205626 0.09579843 0.18373124 ... 2.9375     2.9296875  0.19475862]\n",
      " [0.14365874 0.09062826 0.18497617 ... 3.59375    3.5859375  0.31100218]\n",
      " [0.16550895 0.09288354 0.18304392 ... 0.5546875  0.546875   0.35      ]]\n"
     ]
    },
    {
     "name": "stderr",
     "output_type": "stream",
     "text": [
      "/usr/local/lib/python3.7/site-packages/sklearn/neural_network/_multilayer_perceptron.py:585: ConvergenceWarning: Stochastic Optimizer: Maximum iterations (200) reached and the optimization hasn't converged yet.\n",
      "  % self.max_iter, ConvergenceWarning)\n",
      "/usr/local/lib/python3.7/site-packages/sklearn/neural_network/_multilayer_perceptron.py:585: ConvergenceWarning: Stochastic Optimizer: Maximum iterations (200) reached and the optimization hasn't converged yet.\n",
      "  % self.max_iter, ConvergenceWarning)\n",
      "/usr/local/lib/python3.7/site-packages/sklearn/neural_network/_multilayer_perceptron.py:585: ConvergenceWarning: Stochastic Optimizer: Maximum iterations (200) reached and the optimization hasn't converged yet.\n",
      "  % self.max_iter, ConvergenceWarning)\n",
      "/usr/local/lib/python3.7/site-packages/sklearn/neural_network/_multilayer_perceptron.py:585: ConvergenceWarning: Stochastic Optimizer: Maximum iterations (200) reached and the optimization hasn't converged yet.\n",
      "  % self.max_iter, ConvergenceWarning)\n",
      "/usr/local/lib/python3.7/site-packages/sklearn/neural_network/_multilayer_perceptron.py:585: ConvergenceWarning: Stochastic Optimizer: Maximum iterations (200) reached and the optimization hasn't converged yet.\n",
      "  % self.max_iter, ConvergenceWarning)\n"
     ]
    },
    {
     "data": {
      "image/png": "[encoded data removed]",
      "text/plain": [
       "<Figure size 432x288 with 1 Axes>"
      ]
     },
     "metadata": {
      "needs_background": "light"
     },
     "output_type": "display_data"
    }
   ],
   "source": [
    "test_size_x = []\n",
    "test_size_score = []\n",
    "train_size_score = []\n",
    "print(data)\n",
    "for i in range(15,5,-1):\n",
    "    score = neuralNetwork(data, target_data,learn_start=(i/10000), rate='adaptive')\n",
    "    test_size_x.append(i/10000)\n",
    "    test_size_score.append(score[0])\n",
    "    train_size_score.append(score[1])\n",
    "plt.plot(test_size_x, test_size_score, 'ro')\n",
    "plt.plot(test_size_x, train_size_score, 'bo')\n",
    "plt.ylabel('Accuracy Score')\n",
    "plt.xlabel('Value of Initial Learning Rate')\n",
    "plt.show()  "
   ]
  },
  {
   "cell_type": "markdown",
   "metadata": {},
   "source": [
    "# NN: Exploring the initial learning rate with Invscaling"
   ]
  },
  {
   "cell_type": "code",
   "execution_count": 82,
   "metadata": {},
   "outputs": [
    {
     "name": "stdout",
     "output_type": "stream",
     "text": [
      "[[0.05978098 0.06424127 0.03202691 ... 0.0078125  0.         0.        ]\n",
      " [0.06600874 0.06731003 0.04022873 ... 0.0546875  0.046875   0.05263158]\n",
      " [0.0773155  0.08382942 0.03671846 ... 0.015625   0.0078125  0.04651163]\n",
      " ...\n",
      " [0.14205626 0.09579843 0.18373124 ... 2.9375     2.9296875  0.19475862]\n",
      " [0.14365874 0.09062826 0.18497617 ... 3.59375    3.5859375  0.31100218]\n",
      " [0.16550895 0.09288354 0.18304392 ... 0.5546875  0.546875   0.35      ]]\n"
     ]
    },
    {
     "name": "stderr",
     "output_type": "stream",
     "text": [
      "/usr/local/lib/python3.7/site-packages/sklearn/neural_network/_multilayer_perceptron.py:585: ConvergenceWarning: Stochastic Optimizer: Maximum iterations (200) reached and the optimization hasn't converged yet.\n",
      "  % self.max_iter, ConvergenceWarning)\n",
      "/usr/local/lib/python3.7/site-packages/sklearn/neural_network/_multilayer_perceptron.py:585: ConvergenceWarning: Stochastic Optimizer: Maximum iterations (200) reached and the optimization hasn't converged yet.\n",
      "  % self.max_iter, ConvergenceWarning)\n",
      "/usr/local/lib/python3.7/site-packages/sklearn/neural_network/_multilayer_perceptron.py:585: ConvergenceWarning: Stochastic Optimizer: Maximum iterations (200) reached and the optimization hasn't converged yet.\n",
      "  % self.max_iter, ConvergenceWarning)\n",
      "/usr/local/lib/python3.7/site-packages/sklearn/neural_network/_multilayer_perceptron.py:585: ConvergenceWarning: Stochastic Optimizer: Maximum iterations (200) reached and the optimization hasn't converged yet.\n",
      "  % self.max_iter, ConvergenceWarning)\n",
      "/usr/local/lib/python3.7/site-packages/sklearn/neural_network/_multilayer_perceptron.py:585: ConvergenceWarning: Stochastic Optimizer: Maximum iterations (200) reached and the optimization hasn't converged yet.\n",
      "  % self.max_iter, ConvergenceWarning)\n",
      "/usr/local/lib/python3.7/site-packages/sklearn/neural_network/_multilayer_perceptron.py:585: ConvergenceWarning: Stochastic Optimizer: Maximum iterations (200) reached and the optimization hasn't converged yet.\n",
      "  % self.max_iter, ConvergenceWarning)\n"
     ]
    },
    {
     "data": {
      "image/png": "[encoded data removed]",
      "text/plain": [
       "<Figure size 432x288 with 1 Axes>"
      ]
     },
     "metadata": {
      "needs_background": "light"
     },
     "output_type": "display_data"
    }
   ],
   "source": [
    "test_size_x = []\n",
    "test_size_score = []\n",
    "train_size_score = []\n",
    "print(data)\n",
    "for i in range(15,5,-1):\n",
    "    score = neuralNetwork(data, target_data,learn_start=(i/10000), rate='invscaling')\n",
    "    test_size_x.append(i/10000)\n",
    "    test_size_score.append(score[0])\n",
    "    train_size_score.append(score[1])\n",
    "plt.plot(test_size_x, test_size_score, 'ro')\n",
    "plt.plot(test_size_x, train_size_score, 'bo')\n",
    "plt.ylabel('Accuracy Score')\n",
    "plt.xlabel('Value of Initial Learning Rate')\n",
    "plt.show()  "
   ]
  },
  {
   "cell_type": "markdown",
   "metadata": {},
   "source": [
    "# NN: Exploring Hiden Layer Size"
   ]
  },
  {
   "cell_type": "code",
   "execution_count": 138,
   "metadata": {},
   "outputs": [
    {
     "name": "stdout",
     "output_type": "stream",
     "text": [
      "[[0.05978098 0.06424127 0.03202691 ... 0.0078125  0.         0.        ]\n",
      " [0.06600874 0.06731003 0.04022873 ... 0.0546875  0.046875   0.05263158]\n",
      " [0.0773155  0.08382942 0.03671846 ... 0.015625   0.0078125  0.04651163]\n",
      " ...\n",
      " [0.14205626 0.09579843 0.18373124 ... 2.9375     2.9296875  0.19475862]\n",
      " [0.14365874 0.09062826 0.18497617 ... 3.59375    3.5859375  0.31100218]\n",
      " [0.16550895 0.09288354 0.18304392 ... 0.5546875  0.546875   0.35      ]]\n"
     ]
    },
    {
     "name": "stderr",
     "output_type": "stream",
     "text": [
      "/usr/local/lib/python3.7/site-packages/sklearn/neural_network/_multilayer_perceptron.py:585: ConvergenceWarning: Stochastic Optimizer: Maximum iterations (200) reached and the optimization hasn't converged yet.\n",
      "  % self.max_iter, ConvergenceWarning)\n",
      "/usr/local/lib/python3.7/site-packages/sklearn/neural_network/_multilayer_perceptron.py:585: ConvergenceWarning: Stochastic Optimizer: Maximum iterations (200) reached and the optimization hasn't converged yet.\n",
      "  % self.max_iter, ConvergenceWarning)\n",
      "/usr/local/lib/python3.7/site-packages/sklearn/neural_network/_multilayer_perceptron.py:585: ConvergenceWarning: Stochastic Optimizer: Maximum iterations (200) reached and the optimization hasn't converged yet.\n",
      "  % self.max_iter, ConvergenceWarning)\n",
      "/usr/local/lib/python3.7/site-packages/sklearn/neural_network/_multilayer_perceptron.py:585: ConvergenceWarning: Stochastic Optimizer: Maximum iterations (200) reached and the optimization hasn't converged yet.\n",
      "  % self.max_iter, ConvergenceWarning)\n",
      "/usr/local/lib/python3.7/site-packages/sklearn/neural_network/_multilayer_perceptron.py:585: ConvergenceWarning: Stochastic Optimizer: Maximum iterations (200) reached and the optimization hasn't converged yet.\n",
      "  % self.max_iter, ConvergenceWarning)\n",
      "/usr/local/lib/python3.7/site-packages/sklearn/neural_network/_multilayer_perceptron.py:585: ConvergenceWarning: Stochastic Optimizer: Maximum iterations (200) reached and the optimization hasn't converged yet.\n",
      "  % self.max_iter, ConvergenceWarning)\n"
     ]
    },
    {
     "data": {
      "image/png": "[encoded data removed]",
      "text/plain": [
       "<Figure size 432x288 with 1 Axes>"
      ]
     },
     "metadata": {
      "needs_background": "light"
     },
     "output_type": "display_data"
    }
   ],
   "source": [
    "test_size_x = []\n",
    "test_size_score = []\n",
    "train_size_score = []\n",
    "print(data)\n",
    "for i in range(120, 80,-5):\n",
    "    value = (i,)\n",
    "    score = neuralNetwork(data, target_data)\n",
    "    test_size_x.append(i)\n",
    "    test_size_score.append(score[0])\n",
    "    train_size_score.append(score[1])\n",
    "plt.plot(test_size_x, test_size_score, 'ro')\n",
    "plt.plot(test_size_x, train_size_score, 'bo')\n",
    "plt.ylabel('Accuracy Score')\n",
    "plt.xlabel('Value of Hiden Layer Size')\n",
    "plt.show() "
   ]
  },
  {
   "cell_type": "code",
   "execution_count": null,
   "metadata": {},
   "outputs": [],
   "source": []
  }
 ],
 "metadata": {
  "kernelspec": {
   "display_name": "Python 3",
   "language": "python",
   "name": "python3"
  },
  "language_info": {
   "codemirror_mode": {
    "name": "ipython",
    "version": 3
   },
   "file_extension": ".py",
   "mimetype": "text/x-python",
   "name": "python",
   "nbconvert_exporter": "python",
   "pygments_lexer": "ipython3",
   "version": "3.7.7"
  }
 },
 "nbformat": 4,
 "nbformat_minor": 4
}
